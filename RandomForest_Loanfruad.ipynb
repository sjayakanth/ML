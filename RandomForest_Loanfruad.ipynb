{
 "cells": [
  {
   "cell_type": "markdown",
   "id": "7bdd7236",
   "metadata": {},
   "source": [
    "# Random Forest with Sampling - Credit Card Fraud"
   ]
  },
  {
   "cell_type": "markdown",
   "id": "048782c7",
   "metadata": {},
   "source": [
    "### Import Libraries"
   ]
  },
  {
   "cell_type": "code",
   "execution_count": 13,
   "id": "3d4c7a1a",
   "metadata": {},
   "outputs": [],
   "source": [
    "import warnings\n",
    "warnings.filterwarnings('ignore')"
   ]
  },
  {
   "cell_type": "code",
   "execution_count": 14,
   "id": "1d18ac81",
   "metadata": {},
   "outputs": [],
   "source": [
    "#https://www.kaggle.com/datasets/kelvinkelue/credit-card-fraud-prediction/data"
   ]
  },
  {
   "cell_type": "code",
   "execution_count": 15,
   "id": "4ff08621",
   "metadata": {},
   "outputs": [],
   "source": [
    "import opendatasets as od\n",
    "import pandas as pd\n",
    "import plotly as px\n",
    "import numpy as np\n",
    "import matplotlib.pyplot as plt\n",
    "import seaborn as sns\n",
    "from sklearn.metrics import *\n",
    "from sklearn.preprocessing import StandardScaler, LabelEncoder\n",
    "from sklearn.ensemble import RandomForestClassifier\n",
    "from sklearn.tree import DecisionTreeClassifier\n",
    "from sklearn.model_selection import cross_val_score, train_test_split\n",
    "from statsmodels.stats.outliers_influence import variance_inflation_factor\n",
    "from imblearn.over_sampling import SMOTE\n",
    "from imblearn.under_sampling import NearMiss\n",
    "from datetime import datetime"
   ]
  },
  {
   "cell_type": "markdown",
   "id": "6faf3d37",
   "metadata": {},
   "source": [
    "### Import Dataset"
   ]
  },
  {
   "cell_type": "code",
   "execution_count": 16,
   "id": "9705c7f0",
   "metadata": {},
   "outputs": [],
   "source": [
    "data = pd.read_csv('.././csv/fraud_test.csv')\n",
    "df = pd.DataFrame(data)"
   ]
  },
  {
   "cell_type": "code",
   "execution_count": 17,
   "id": "88ce9baf",
   "metadata": {},
   "outputs": [
    {
     "data": {
      "text/html": [
       "<div>\n",
       "<style scoped>\n",
       "    .dataframe tbody tr th:only-of-type {\n",
       "        vertical-align: middle;\n",
       "    }\n",
       "\n",
       "    .dataframe tbody tr th {\n",
       "        vertical-align: top;\n",
       "    }\n",
       "\n",
       "    .dataframe thead th {\n",
       "        text-align: right;\n",
       "    }\n",
       "</style>\n",
       "<table border=\"1\" class=\"dataframe\">\n",
       "  <thead>\n",
       "    <tr style=\"text-align: right;\">\n",
       "      <th></th>\n",
       "      <th>Unnamed: 0</th>\n",
       "      <th>trans_date_trans_time</th>\n",
       "      <th>cc_num</th>\n",
       "      <th>merchant</th>\n",
       "      <th>category</th>\n",
       "      <th>amt</th>\n",
       "      <th>first</th>\n",
       "      <th>last</th>\n",
       "      <th>gender</th>\n",
       "      <th>street</th>\n",
       "      <th>...</th>\n",
       "      <th>lat</th>\n",
       "      <th>long</th>\n",
       "      <th>city_pop</th>\n",
       "      <th>job</th>\n",
       "      <th>dob</th>\n",
       "      <th>trans_num</th>\n",
       "      <th>unix_time</th>\n",
       "      <th>merch_lat</th>\n",
       "      <th>merch_long</th>\n",
       "      <th>is_fraud</th>\n",
       "    </tr>\n",
       "  </thead>\n",
       "  <tbody>\n",
       "    <tr>\n",
       "      <th>0</th>\n",
       "      <td>0</td>\n",
       "      <td>21/06/2020 12:14</td>\n",
       "      <td>2.291160e+15</td>\n",
       "      <td>fraud_Kirlin and Sons</td>\n",
       "      <td>personal_care</td>\n",
       "      <td>2.86</td>\n",
       "      <td>Jeff</td>\n",
       "      <td>Elliott</td>\n",
       "      <td>M</td>\n",
       "      <td>351 Darlene Green</td>\n",
       "      <td>...</td>\n",
       "      <td>33.9659</td>\n",
       "      <td>-80.9355</td>\n",
       "      <td>333497</td>\n",
       "      <td>Mechanical engineer</td>\n",
       "      <td>19/03/1968</td>\n",
       "      <td>2da90c7d74bd46a0caf3777415b3ebd3</td>\n",
       "      <td>1371816865</td>\n",
       "      <td>33.986391</td>\n",
       "      <td>-81.200714</td>\n",
       "      <td>0</td>\n",
       "    </tr>\n",
       "    <tr>\n",
       "      <th>1</th>\n",
       "      <td>1</td>\n",
       "      <td>21/06/2020 12:14</td>\n",
       "      <td>3.573030e+15</td>\n",
       "      <td>fraud_Sporer-Keebler</td>\n",
       "      <td>personal_care</td>\n",
       "      <td>29.84</td>\n",
       "      <td>Joanne</td>\n",
       "      <td>Williams</td>\n",
       "      <td>F</td>\n",
       "      <td>3638 Marsh Union</td>\n",
       "      <td>...</td>\n",
       "      <td>40.3207</td>\n",
       "      <td>-110.4360</td>\n",
       "      <td>302</td>\n",
       "      <td>Sales professional, IT</td>\n",
       "      <td>17/01/1990</td>\n",
       "      <td>324cc204407e99f51b0d6ca0055005e7</td>\n",
       "      <td>1371816873</td>\n",
       "      <td>39.450498</td>\n",
       "      <td>-109.960431</td>\n",
       "      <td>0</td>\n",
       "    </tr>\n",
       "    <tr>\n",
       "      <th>2</th>\n",
       "      <td>2</td>\n",
       "      <td>21/06/2020 12:14</td>\n",
       "      <td>3.598220e+15</td>\n",
       "      <td>fraud_Swaniawski, Nitzsche and Welch</td>\n",
       "      <td>health_fitness</td>\n",
       "      <td>41.28</td>\n",
       "      <td>Ashley</td>\n",
       "      <td>Lopez</td>\n",
       "      <td>F</td>\n",
       "      <td>9333 Valentine Point</td>\n",
       "      <td>...</td>\n",
       "      <td>40.6729</td>\n",
       "      <td>-73.5365</td>\n",
       "      <td>34496</td>\n",
       "      <td>Librarian, public</td>\n",
       "      <td>21/10/1970</td>\n",
       "      <td>c81755dbbbea9d5c77f094348a7579be</td>\n",
       "      <td>1371816893</td>\n",
       "      <td>40.495810</td>\n",
       "      <td>-74.196111</td>\n",
       "      <td>0</td>\n",
       "    </tr>\n",
       "    <tr>\n",
       "      <th>3</th>\n",
       "      <td>3</td>\n",
       "      <td>21/06/2020 12:15</td>\n",
       "      <td>3.591920e+15</td>\n",
       "      <td>fraud_Haley Group</td>\n",
       "      <td>misc_pos</td>\n",
       "      <td>60.05</td>\n",
       "      <td>Brian</td>\n",
       "      <td>Williams</td>\n",
       "      <td>M</td>\n",
       "      <td>32941 Krystal Mill Apt. 552</td>\n",
       "      <td>...</td>\n",
       "      <td>28.5697</td>\n",
       "      <td>-80.8191</td>\n",
       "      <td>54767</td>\n",
       "      <td>Set designer</td>\n",
       "      <td>25/07/1987</td>\n",
       "      <td>2159175b9efe66dc301f149d3d5abf8c</td>\n",
       "      <td>1371816915</td>\n",
       "      <td>28.812398</td>\n",
       "      <td>-80.883061</td>\n",
       "      <td>0</td>\n",
       "    </tr>\n",
       "    <tr>\n",
       "      <th>4</th>\n",
       "      <td>4</td>\n",
       "      <td>21/06/2020 12:15</td>\n",
       "      <td>3.526830e+15</td>\n",
       "      <td>fraud_Johnston-Casper</td>\n",
       "      <td>travel</td>\n",
       "      <td>3.19</td>\n",
       "      <td>Nathan</td>\n",
       "      <td>Massey</td>\n",
       "      <td>M</td>\n",
       "      <td>5783 Evan Roads Apt. 465</td>\n",
       "      <td>...</td>\n",
       "      <td>44.2529</td>\n",
       "      <td>-85.0170</td>\n",
       "      <td>1126</td>\n",
       "      <td>Furniture designer</td>\n",
       "      <td>06/07/1955</td>\n",
       "      <td>57ff021bd3f328f8738bb535c302a31b</td>\n",
       "      <td>1371816917</td>\n",
       "      <td>44.959148</td>\n",
       "      <td>-85.884734</td>\n",
       "      <td>0</td>\n",
       "    </tr>\n",
       "  </tbody>\n",
       "</table>\n",
       "<p>5 rows × 23 columns</p>\n",
       "</div>"
      ],
      "text/plain": [
       "   Unnamed: 0 trans_date_trans_time        cc_num  \\\n",
       "0           0      21/06/2020 12:14  2.291160e+15   \n",
       "1           1      21/06/2020 12:14  3.573030e+15   \n",
       "2           2      21/06/2020 12:14  3.598220e+15   \n",
       "3           3      21/06/2020 12:15  3.591920e+15   \n",
       "4           4      21/06/2020 12:15  3.526830e+15   \n",
       "\n",
       "                               merchant        category    amt   first  \\\n",
       "0                 fraud_Kirlin and Sons   personal_care   2.86    Jeff   \n",
       "1                  fraud_Sporer-Keebler   personal_care  29.84  Joanne   \n",
       "2  fraud_Swaniawski, Nitzsche and Welch  health_fitness  41.28  Ashley   \n",
       "3                     fraud_Haley Group        misc_pos  60.05   Brian   \n",
       "4                 fraud_Johnston-Casper          travel   3.19  Nathan   \n",
       "\n",
       "       last gender                       street  ...      lat      long  \\\n",
       "0   Elliott      M            351 Darlene Green  ...  33.9659  -80.9355   \n",
       "1  Williams      F             3638 Marsh Union  ...  40.3207 -110.4360   \n",
       "2     Lopez      F         9333 Valentine Point  ...  40.6729  -73.5365   \n",
       "3  Williams      M  32941 Krystal Mill Apt. 552  ...  28.5697  -80.8191   \n",
       "4    Massey      M     5783 Evan Roads Apt. 465  ...  44.2529  -85.0170   \n",
       "\n",
       "   city_pop                     job         dob  \\\n",
       "0    333497     Mechanical engineer  19/03/1968   \n",
       "1       302  Sales professional, IT  17/01/1990   \n",
       "2     34496       Librarian, public  21/10/1970   \n",
       "3     54767            Set designer  25/07/1987   \n",
       "4      1126      Furniture designer  06/07/1955   \n",
       "\n",
       "                          trans_num   unix_time  merch_lat  merch_long  \\\n",
       "0  2da90c7d74bd46a0caf3777415b3ebd3  1371816865  33.986391  -81.200714   \n",
       "1  324cc204407e99f51b0d6ca0055005e7  1371816873  39.450498 -109.960431   \n",
       "2  c81755dbbbea9d5c77f094348a7579be  1371816893  40.495810  -74.196111   \n",
       "3  2159175b9efe66dc301f149d3d5abf8c  1371816915  28.812398  -80.883061   \n",
       "4  57ff021bd3f328f8738bb535c302a31b  1371816917  44.959148  -85.884734   \n",
       "\n",
       "   is_fraud  \n",
       "0         0  \n",
       "1         0  \n",
       "2         0  \n",
       "3         0  \n",
       "4         0  \n",
       "\n",
       "[5 rows x 23 columns]"
      ]
     },
     "execution_count": 17,
     "metadata": {},
     "output_type": "execute_result"
    }
   ],
   "source": [
    "df.head(5)"
   ]
  },
  {
   "cell_type": "markdown",
   "id": "5e0db8b3",
   "metadata": {},
   "source": [
    "### Basic Validation Check"
   ]
  },
  {
   "cell_type": "code",
   "execution_count": 18,
   "id": "b2ea1828",
   "metadata": {},
   "outputs": [
    {
     "data": {
      "text/plain": [
       "Unnamed: 0               0\n",
       "trans_date_trans_time    0\n",
       "cc_num                   0\n",
       "merchant                 0\n",
       "category                 0\n",
       "amt                      0\n",
       "first                    0\n",
       "last                     0\n",
       "gender                   0\n",
       "street                   0\n",
       "city                     0\n",
       "state                    0\n",
       "zip                      0\n",
       "lat                      0\n",
       "long                     0\n",
       "city_pop                 0\n",
       "job                      0\n",
       "dob                      0\n",
       "trans_num                0\n",
       "unix_time                0\n",
       "merch_lat                0\n",
       "merch_long               0\n",
       "is_fraud                 0\n",
       "dtype: int64"
      ]
     },
     "execution_count": 18,
     "metadata": {},
     "output_type": "execute_result"
    }
   ],
   "source": [
    "df.isna().sum()\n",
    "df.duplicated().sum()\n",
    "df.isnull().sum()"
   ]
  },
  {
   "cell_type": "markdown",
   "id": "a54e4647",
   "metadata": {},
   "source": [
    "### Checking the class balance of the target Variable"
   ]
  },
  {
   "cell_type": "code",
   "execution_count": 19,
   "id": "35287871",
   "metadata": {},
   "outputs": [
    {
     "data": {
      "text/plain": [
       "is_fraud\n",
       "0    553574\n",
       "1      2145\n",
       "Name: count, dtype: int64"
      ]
     },
     "execution_count": 19,
     "metadata": {},
     "output_type": "execute_result"
    }
   ],
   "source": [
    "df.is_fraud.value_counts()"
   ]
  },
  {
   "cell_type": "markdown",
   "id": "fc7a70aa",
   "metadata": {},
   "source": [
    "### Feature Extraction\n",
    "As Age might be important feature for prediction. We can extract Age from DOB and drop the column"
   ]
  },
  {
   "cell_type": "code",
   "execution_count": 20,
   "id": "89167757",
   "metadata": {},
   "outputs": [],
   "source": [
    "def calculate_age(dob):\n",
    "    today = datetime.today()\n",
    "    dob = datetime.strptime(dob, '%d/%m/%Y')  \n",
    "    age = today.year - dob.year - ((today.month, today.day) < (dob.month, dob.day))\n",
    "    return age\n",
    "\n",
    "df['Age'] = df['dob'].apply(calculate_age)"
   ]
  },
  {
   "cell_type": "markdown",
   "id": "947679ce",
   "metadata": {},
   "source": [
    "### Droping Unwanted Columns\n",
    "    1. Dropping the Names and Transaction ID columns\n",
    "    2. As age is calulated, the DOB column can be dropped\n",
    "    3. As street, city and state columns as there the latitude and longitude columns can be dropped\n",
    "    4. City population is not good predictor for predicting fraud therefore sropping that column as well"
   ]
  },
  {
   "cell_type": "code",
   "execution_count": 21,
   "id": "8206f98d",
   "metadata": {},
   "outputs": [],
   "source": [
    "df.drop(labels=['Unnamed: 0','trans_date_trans_time','cc_num','first', 'last','trans_num',\n",
    "                'dob','lat','long','merch_lat','merch_long','unix_time','city_pop'],axis=1,inplace=True)"
   ]
  },
  {
   "cell_type": "markdown",
   "id": "5e9a2f7f",
   "metadata": {},
   "source": [
    "### Statistical Description"
   ]
  },
  {
   "cell_type": "code",
   "execution_count": 22,
   "id": "b7c3b03e",
   "metadata": {},
   "outputs": [
    {
     "data": {
      "text/html": [
       "<div>\n",
       "<style scoped>\n",
       "    .dataframe tbody tr th:only-of-type {\n",
       "        vertical-align: middle;\n",
       "    }\n",
       "\n",
       "    .dataframe tbody tr th {\n",
       "        vertical-align: top;\n",
       "    }\n",
       "\n",
       "    .dataframe thead th {\n",
       "        text-align: right;\n",
       "    }\n",
       "</style>\n",
       "<table border=\"1\" class=\"dataframe\">\n",
       "  <thead>\n",
       "    <tr style=\"text-align: right;\">\n",
       "      <th></th>\n",
       "      <th>count</th>\n",
       "      <th>mean</th>\n",
       "      <th>std</th>\n",
       "      <th>min</th>\n",
       "      <th>25%</th>\n",
       "      <th>50%</th>\n",
       "      <th>75%</th>\n",
       "      <th>max</th>\n",
       "    </tr>\n",
       "  </thead>\n",
       "  <tbody>\n",
       "    <tr>\n",
       "      <th>amt</th>\n",
       "      <td>555719.0</td>\n",
       "      <td>69.392810</td>\n",
       "      <td>156.745941</td>\n",
       "      <td>1.0</td>\n",
       "      <td>9.63</td>\n",
       "      <td>47.29</td>\n",
       "      <td>83.01</td>\n",
       "      <td>22768.11</td>\n",
       "    </tr>\n",
       "    <tr>\n",
       "      <th>zip</th>\n",
       "      <td>555719.0</td>\n",
       "      <td>48842.628015</td>\n",
       "      <td>26855.283328</td>\n",
       "      <td>1257.0</td>\n",
       "      <td>26292.00</td>\n",
       "      <td>48174.00</td>\n",
       "      <td>72011.00</td>\n",
       "      <td>99921.00</td>\n",
       "    </tr>\n",
       "    <tr>\n",
       "      <th>is_fraud</th>\n",
       "      <td>555719.0</td>\n",
       "      <td>0.003860</td>\n",
       "      <td>0.062008</td>\n",
       "      <td>0.0</td>\n",
       "      <td>0.00</td>\n",
       "      <td>0.00</td>\n",
       "      <td>0.00</td>\n",
       "      <td>1.00</td>\n",
       "    </tr>\n",
       "    <tr>\n",
       "      <th>Age</th>\n",
       "      <td>555719.0</td>\n",
       "      <td>50.007279</td>\n",
       "      <td>17.439908</td>\n",
       "      <td>19.0</td>\n",
       "      <td>37.00</td>\n",
       "      <td>48.00</td>\n",
       "      <td>61.00</td>\n",
       "      <td>99.00</td>\n",
       "    </tr>\n",
       "  </tbody>\n",
       "</table>\n",
       "</div>"
      ],
      "text/plain": [
       "             count          mean           std     min       25%       50%  \\\n",
       "amt       555719.0     69.392810    156.745941     1.0      9.63     47.29   \n",
       "zip       555719.0  48842.628015  26855.283328  1257.0  26292.00  48174.00   \n",
       "is_fraud  555719.0      0.003860      0.062008     0.0      0.00      0.00   \n",
       "Age       555719.0     50.007279     17.439908    19.0     37.00     48.00   \n",
       "\n",
       "               75%       max  \n",
       "amt          83.01  22768.11  \n",
       "zip       72011.00  99921.00  \n",
       "is_fraud      0.00      1.00  \n",
       "Age          61.00     99.00  "
      ]
     },
     "execution_count": 22,
     "metadata": {},
     "output_type": "execute_result"
    }
   ],
   "source": [
    "df.describe().T"
   ]
  },
  {
   "cell_type": "markdown",
   "id": "4d2755c0",
   "metadata": {},
   "source": [
    "### Correlation"
   ]
  },
  {
   "cell_type": "code",
   "execution_count": 23,
   "id": "f0cee147",
   "metadata": {},
   "outputs": [
    {
     "data": {
      "text/html": [
       "<div>\n",
       "<style scoped>\n",
       "    .dataframe tbody tr th:only-of-type {\n",
       "        vertical-align: middle;\n",
       "    }\n",
       "\n",
       "    .dataframe tbody tr th {\n",
       "        vertical-align: top;\n",
       "    }\n",
       "\n",
       "    .dataframe thead th {\n",
       "        text-align: right;\n",
       "    }\n",
       "</style>\n",
       "<table border=\"1\" class=\"dataframe\">\n",
       "  <thead>\n",
       "    <tr style=\"text-align: right;\">\n",
       "      <th></th>\n",
       "      <th>amt</th>\n",
       "      <th>zip</th>\n",
       "      <th>is_fraud</th>\n",
       "      <th>Age</th>\n",
       "    </tr>\n",
       "  </thead>\n",
       "  <tbody>\n",
       "    <tr>\n",
       "      <th>amt</th>\n",
       "      <td>100.000000</td>\n",
       "      <td>0.231037</td>\n",
       "      <td>18.226707</td>\n",
       "      <td>-1.288385</td>\n",
       "    </tr>\n",
       "    <tr>\n",
       "      <th>zip</th>\n",
       "      <td>0.231037</td>\n",
       "      <td>100.000000</td>\n",
       "      <td>-0.227092</td>\n",
       "      <td>0.857540</td>\n",
       "    </tr>\n",
       "    <tr>\n",
       "      <th>is_fraud</th>\n",
       "      <td>18.226707</td>\n",
       "      <td>-0.227092</td>\n",
       "      <td>100.000000</td>\n",
       "      <td>0.763011</td>\n",
       "    </tr>\n",
       "    <tr>\n",
       "      <th>Age</th>\n",
       "      <td>-1.288385</td>\n",
       "      <td>0.857540</td>\n",
       "      <td>0.763011</td>\n",
       "      <td>100.000000</td>\n",
       "    </tr>\n",
       "  </tbody>\n",
       "</table>\n",
       "</div>"
      ],
      "text/plain": [
       "                 amt         zip    is_fraud         Age\n",
       "amt       100.000000    0.231037   18.226707   -1.288385\n",
       "zip         0.231037  100.000000   -0.227092    0.857540\n",
       "is_fraud   18.226707   -0.227092  100.000000    0.763011\n",
       "Age        -1.288385    0.857540    0.763011  100.000000"
      ]
     },
     "execution_count": 23,
     "metadata": {},
     "output_type": "execute_result"
    }
   ],
   "source": [
    "df.corr(numeric_only=True) *100"
   ]
  },
  {
   "cell_type": "markdown",
   "id": "af4cdf4b",
   "metadata": {},
   "source": [
    "### Encoding\n",
    "    1. Changing Zip code to object for encoding it\n",
    "    2. Label Encode all the object columns"
   ]
  },
  {
   "cell_type": "code",
   "execution_count": 24,
   "id": "ff67e95e",
   "metadata": {},
   "outputs": [],
   "source": [
    "df['zip'] = df['zip'].astype('object')"
   ]
  },
  {
   "cell_type": "code",
   "execution_count": 25,
   "id": "768012e7",
   "metadata": {},
   "outputs": [],
   "source": [
    "encode_cols = ['merchant', 'category','gender','job','street','state','zip','city']\n",
    "lbl_en = LabelEncoder()\n",
    "for col in encode_cols:\n",
    "    df[col] = lbl_en.fit_transform(df[col])  "
   ]
  },
  {
   "cell_type": "markdown",
   "id": "1b2ba88e",
   "metadata": {},
   "source": [
    "### The Amount column shows more magnitude therefore applying standard scaler to it"
   ]
  },
  {
   "cell_type": "code",
   "execution_count": 26,
   "id": "a1e7a51e",
   "metadata": {},
   "outputs": [],
   "source": [
    "scaler_cols  = ['amt']\n",
    "scaler = StandardScaler()\n",
    "df[scaler_cols] = scaler.fit_transform(df[scaler_cols])"
   ]
  },
  {
   "cell_type": "markdown",
   "id": "419717a0",
   "metadata": {},
   "source": [
    "### Split Data to Train and Test"
   ]
  },
  {
   "cell_type": "code",
   "execution_count": 27,
   "id": "afbd6a6a",
   "metadata": {},
   "outputs": [],
   "source": [
    "X_cols = ['merchant', 'category', 'amt', 'gender', 'street', 'city', 'state',\n",
    "       'zip', 'job',  'Age']\n",
    "X = df[X_cols]\n",
    "y = df['is_fraud']\n",
    "X_train, X_test,y_train, y_test = train_test_split(X, y, test_size=0.2, random_state=7)"
   ]
  },
  {
   "cell_type": "markdown",
   "id": "5851e762",
   "metadata": {},
   "source": [
    "# Model 1: Basic Decision Tree Model"
   ]
  },
  {
   "cell_type": "code",
   "execution_count": 28,
   "id": "ffe31e93",
   "metadata": {},
   "outputs": [
    {
     "name": "stdout",
     "output_type": "stream",
     "text": [
      "              precision    recall  f1-score   support\n",
      "\n",
      "           0       1.00      1.00      1.00    110724\n",
      "           1       0.62      0.65      0.64       420\n",
      "\n",
      "    accuracy                           1.00    111144\n",
      "   macro avg       0.81      0.83      0.82    111144\n",
      "weighted avg       1.00      1.00      1.00    111144\n",
      "\n"
     ]
    }
   ],
   "source": [
    "base_model = DecisionTreeClassifier()\n",
    "base_model_DT = base_model.fit(X_train, y_train)\n",
    "y_pred = base_model_DT.predict(X_test)\n",
    "print(classification_report(y_test, y_pred))"
   ]
  },
  {
   "cell_type": "markdown",
   "id": "967d810f",
   "metadata": {},
   "source": [
    "### Balancing the taget class using SMOTE which is an oversampling technique"
   ]
  },
  {
   "cell_type": "code",
   "execution_count": 29,
   "id": "672398c1",
   "metadata": {},
   "outputs": [],
   "source": [
    "sm = SMOTE(random_state=7)\n",
    "X_train_sm , y_train_sm = sm.fit_resample(X_train, y_train)"
   ]
  },
  {
   "cell_type": "code",
   "execution_count": 30,
   "id": "c180232f",
   "metadata": {},
   "outputs": [
    {
     "name": "stdout",
     "output_type": "stream",
     "text": [
      "After OverSampling, the shape of train_X: (885700, 10)\n",
      "After OverSampling, the shape of train_y: (885700,) \n",
      "\n",
      "After OverSampling, counts of label '1': 442850\n",
      "After OverSampling, counts of label '0': 442850\n"
     ]
    }
   ],
   "source": [
    "print('After OverSampling, the shape of train_X: {}'.format(X_train_sm.shape)) \n",
    "print('After OverSampling, the shape of train_y: {} \\n'.format(y_train_sm.shape)) \n",
    "print(\"After OverSampling, counts of label '1': {}\".format(sum(y_train_sm == 1))) \n",
    "print(\"After OverSampling, counts of label '0': {}\".format(sum(y_train_sm == 0))) "
   ]
  },
  {
   "cell_type": "markdown",
   "id": "ed7e5bb5",
   "metadata": {},
   "source": [
    "# Model 2:  Decision Tree Model with balanced taget using SMOTE"
   ]
  },
  {
   "cell_type": "code",
   "execution_count": 31,
   "id": "c7b1e9fb",
   "metadata": {},
   "outputs": [
    {
     "name": "stdout",
     "output_type": "stream",
     "text": [
      "              precision    recall  f1-score   support\n",
      "\n",
      "           0       1.00      0.99      0.99    110724\n",
      "           1       0.18      0.69      0.28       420\n",
      "\n",
      "    accuracy                           0.99    111144\n",
      "   macro avg       0.59      0.84      0.64    111144\n",
      "weighted avg       1.00      0.99      0.99    111144\n",
      "\n"
     ]
    }
   ],
   "source": [
    "sm_model = DecisionTreeClassifier()\n",
    "sm_model_DT = sm_model.fit(X_train_sm, y_train_sm)\n",
    "y_pred_sm = sm_model_DT.predict(X_test)\n",
    "print(classification_report(y_test, y_pred_sm))"
   ]
  },
  {
   "cell_type": "markdown",
   "id": "284ec148",
   "metadata": {},
   "source": [
    "### Balancing the taget class using NearMiss which is an undersampling technique"
   ]
  },
  {
   "cell_type": "code",
   "execution_count": 32,
   "id": "0fa6cabb",
   "metadata": {},
   "outputs": [],
   "source": [
    "nm = NearMiss()\n",
    "X_train_nm , y_train_nm = nm.fit_resample(X_train, y_train)"
   ]
  },
  {
   "cell_type": "code",
   "execution_count": 33,
   "id": "bc208301",
   "metadata": {},
   "outputs": [
    {
     "name": "stdout",
     "output_type": "stream",
     "text": [
      "After OverSampling, the shape of train_X: (3450, 10)\n",
      "After OverSampling, the shape of train_y: (3450,) \n",
      "\n",
      "After OverSampling, counts of label '1': 1725\n",
      "After OverSampling, counts of label '0': 1725\n"
     ]
    }
   ],
   "source": [
    "print('After OverSampling, the shape of train_X: {}'.format(X_train_nm.shape)) \n",
    "print('After OverSampling, the shape of train_y: {} \\n'.format(y_train_nm.shape)) \n",
    "print(\"After OverSampling, counts of label '1': {}\".format(sum(y_train_nm == 1))) \n",
    "print(\"After OverSampling, counts of label '0': {}\".format(sum(y_train_nm == 0))) "
   ]
  },
  {
   "cell_type": "markdown",
   "id": "2299e4fc",
   "metadata": {},
   "source": [
    "# Model 3:  Decision Tree Model with balanced taget using NearMiss"
   ]
  },
  {
   "cell_type": "code",
   "execution_count": 34,
   "id": "f3cce647",
   "metadata": {},
   "outputs": [
    {
     "name": "stdout",
     "output_type": "stream",
     "text": [
      "              precision    recall  f1-score   support\n",
      "\n",
      "           0       1.00      0.92      0.96    110724\n",
      "           1       0.04      0.90      0.08       420\n",
      "\n",
      "    accuracy                           0.92    111144\n",
      "   macro avg       0.52      0.91      0.52    111144\n",
      "weighted avg       1.00      0.92      0.95    111144\n",
      "\n"
     ]
    }
   ],
   "source": [
    "nm_model = DecisionTreeClassifier()\n",
    "nm_model_DT = nm_model.fit(X_train_nm, y_train_nm)\n",
    "y_pred_nm = nm_model_DT.predict(X_test)\n",
    "print(classification_report(y_test, y_pred_nm))"
   ]
  },
  {
   "cell_type": "code",
   "execution_count": 35,
   "id": "60904648",
   "metadata": {},
   "outputs": [
    {
     "data": {
      "text/plain": [
       "'gini'"
      ]
     },
     "execution_count": 35,
     "metadata": {},
     "output_type": "execute_result"
    }
   ],
   "source": [
    "nm_model_DT.feature_importances_\n",
    "nm_model_DT.criterion"
   ]
  },
  {
   "cell_type": "markdown",
   "id": "151c7ba0",
   "metadata": {},
   "source": [
    "# Model 4:  Random Forest Model with balanced taget using SMOTE"
   ]
  },
  {
   "cell_type": "code",
   "execution_count": 36,
   "id": "dbb2a6c4",
   "metadata": {
    "scrolled": true
   },
   "outputs": [
    {
     "name": "stdout",
     "output_type": "stream",
     "text": [
      "              precision    recall  f1-score   support\n",
      "\n",
      "           0       1.00      0.99      1.00    110724\n",
      "           1       0.29      0.71      0.41       420\n",
      "\n",
      "    accuracy                           0.99    111144\n",
      "   macro avg       0.64      0.85      0.70    111144\n",
      "weighted avg       1.00      0.99      0.99    111144\n",
      "\n"
     ]
    }
   ],
   "source": [
    "rf_model = RandomForestClassifier()\n",
    "rf_model_DT = rf_model.fit(X_train_sm, y_train_sm)\n",
    "y_pred_rf = rf_model_DT.predict(X_test)\n",
    "print(classification_report(y_test, y_pred_rf))"
   ]
  },
  {
   "cell_type": "markdown",
   "id": "3d49fa9d",
   "metadata": {},
   "source": [
    "# Model 4:  Random Forest Model with balanced taget using NearMiss"
   ]
  },
  {
   "cell_type": "code",
   "execution_count": 37,
   "id": "8d702dd0",
   "metadata": {},
   "outputs": [
    {
     "name": "stdout",
     "output_type": "stream",
     "text": [
      "              precision    recall  f1-score   support\n",
      "\n",
      "           0       1.00      0.77      0.87    110724\n",
      "           1       0.02      0.95      0.03       420\n",
      "\n",
      "    accuracy                           0.77    111144\n",
      "   macro avg       0.51      0.86      0.45    111144\n",
      "weighted avg       1.00      0.77      0.87    111144\n",
      "\n"
     ]
    }
   ],
   "source": [
    "rf_model = RandomForestClassifier()\n",
    "rf_model_DT = rf_model.fit(X_train_nm, y_train_nm)\n",
    "y_pred_rf = rf_model_DT.predict(X_test)\n",
    "print(classification_report(y_test, y_pred_rf))"
   ]
  }
 ],
 "metadata": {
  "kernelspec": {
   "display_name": "Python 3",
   "language": "python",
   "name": "python3"
  },
  "language_info": {
   "codemirror_mode": {
    "name": "ipython",
    "version": 3
   },
   "file_extension": ".py",
   "mimetype": "text/x-python",
   "name": "python",
   "nbconvert_exporter": "python",
   "pygments_lexer": "ipython3",
   "version": "3.11.5"
  }
 },
 "nbformat": 4,
 "nbformat_minor": 5
}
